{
 "nbformat": 4,
 "nbformat_minor": 0,
 "metadata": {
  "colab": {
   "provenance": []
  },
  "kernelspec": {
   "name": "python3",
   "display_name": "Python 3 (ipykernel)",
   "language": "python"
  },
  "language_info": {
   "name": "python"
  }
 },
 "cells": [
  {
   "cell_type": "code",
   "source": [
    "import pandas as pd\n",
    "import numpy as np\n",
    "import matplotlib.pyplot as plt"
   ],
   "metadata": {
    "id": "OQFEynd1fVhG",
    "ExecuteTime": {
     "end_time": "2024-10-31T05:23:03.383290Z",
     "start_time": "2024-10-31T05:23:02.129338Z"
    }
   },
   "outputs": [],
   "execution_count": 1
  },
  {
   "cell_type": "markdown",
   "source": [
    "###Q1. Who are the top 5 users in Bangalore with the highest number of followers? List their login in order, comma-separated"
   ],
   "metadata": {
    "id": "vMprJol_gy9j"
   }
  },
  {
   "cell_type": "code",
   "source": [
    "users = pd.read_csv('users.csv')\n",
    "users.head()"
   ],
   "metadata": {
    "colab": {
     "base_uri": "https://localhost:8080/",
     "height": 590
    },
    "collapsed": true,
    "id": "l0GxKM2pgvo8",
    "outputId": "9c80e197-e328-4538-8d37-4e0d39e4ad1e",
    "ExecuteTime": {
     "end_time": "2024-10-31T05:23:03.423871Z",
     "start_time": "2024-10-31T05:23:03.383290Z"
    }
   },
   "outputs": [
    {
     "data": {
      "text/plain": [
       "             login           name          company          location  \\\n",
       "0      krishnaik06   Krish C Naik    PANASONIC IIC         Bangalore   \n",
       "1  championswimmer    Arnav Gupta        JIOCINEMA  Bangalore, India   \n",
       "2    arpitbbhayani  Arpit Bhayani           DICEDB         Bangalore   \n",
       "3    manjunath5496    Manjunath.R  MYW3SCHOOLS.COM  Bangalore, India   \n",
       "4      tanaypratap   Tanay Pratap           INVACT  Bangalore, India   \n",
       "\n",
       "                     email  hireable  \\\n",
       "0    krishnaik06@gmail.com     False   \n",
       "1   dev@championswimmer.in      True   \n",
       "2                      NaN      True   \n",
       "3  manjunath5496@gmail.com     False   \n",
       "4      tanay.mit@gmail.com     False   \n",
       "\n",
       "                                                 bio  public_repos  followers  \\\n",
       "0  Data Scientist with ML and Deep  Learning expe...           330      30922   \n",
       "1  Director of Engineering - @JioCinema ┃\\r\\nPast...           351       4664   \n",
       "2  Creator of @DiceDB • ex-Google Dataproc, ex-Am...           188       4561   \n",
       "3  \"Science is not only a disciple of reason but,...          1563       4090   \n",
       "4         Founder & CEO @invact . Teacher @neogcamp             40       3029   \n",
       "\n",
       "   following            created_at  \n",
       "0          0  2016-06-20T09:25:45Z  \n",
       "1         29  2012-01-13T07:41:40Z  \n",
       "2          3  2013-06-20T06:40:12Z  \n",
       "3       9313  2016-06-16T05:02:32Z  \n",
       "4          1  2014-12-17T05:15:06Z  "
      ],
      "text/html": [
       "<div>\n",
       "<style scoped>\n",
       "    .dataframe tbody tr th:only-of-type {\n",
       "        vertical-align: middle;\n",
       "    }\n",
       "\n",
       "    .dataframe tbody tr th {\n",
       "        vertical-align: top;\n",
       "    }\n",
       "\n",
       "    .dataframe thead th {\n",
       "        text-align: right;\n",
       "    }\n",
       "</style>\n",
       "<table border=\"1\" class=\"dataframe\">\n",
       "  <thead>\n",
       "    <tr style=\"text-align: right;\">\n",
       "      <th></th>\n",
       "      <th>login</th>\n",
       "      <th>name</th>\n",
       "      <th>company</th>\n",
       "      <th>location</th>\n",
       "      <th>email</th>\n",
       "      <th>hireable</th>\n",
       "      <th>bio</th>\n",
       "      <th>public_repos</th>\n",
       "      <th>followers</th>\n",
       "      <th>following</th>\n",
       "      <th>created_at</th>\n",
       "    </tr>\n",
       "  </thead>\n",
       "  <tbody>\n",
       "    <tr>\n",
       "      <th>0</th>\n",
       "      <td>krishnaik06</td>\n",
       "      <td>Krish C Naik</td>\n",
       "      <td>PANASONIC IIC</td>\n",
       "      <td>Bangalore</td>\n",
       "      <td>krishnaik06@gmail.com</td>\n",
       "      <td>False</td>\n",
       "      <td>Data Scientist with ML and Deep  Learning expe...</td>\n",
       "      <td>330</td>\n",
       "      <td>30922</td>\n",
       "      <td>0</td>\n",
       "      <td>2016-06-20T09:25:45Z</td>\n",
       "    </tr>\n",
       "    <tr>\n",
       "      <th>1</th>\n",
       "      <td>championswimmer</td>\n",
       "      <td>Arnav Gupta</td>\n",
       "      <td>JIOCINEMA</td>\n",
       "      <td>Bangalore, India</td>\n",
       "      <td>dev@championswimmer.in</td>\n",
       "      <td>True</td>\n",
       "      <td>Director of Engineering - @JioCinema ┃\\r\\nPast...</td>\n",
       "      <td>351</td>\n",
       "      <td>4664</td>\n",
       "      <td>29</td>\n",
       "      <td>2012-01-13T07:41:40Z</td>\n",
       "    </tr>\n",
       "    <tr>\n",
       "      <th>2</th>\n",
       "      <td>arpitbbhayani</td>\n",
       "      <td>Arpit Bhayani</td>\n",
       "      <td>DICEDB</td>\n",
       "      <td>Bangalore</td>\n",
       "      <td>NaN</td>\n",
       "      <td>True</td>\n",
       "      <td>Creator of @DiceDB • ex-Google Dataproc, ex-Am...</td>\n",
       "      <td>188</td>\n",
       "      <td>4561</td>\n",
       "      <td>3</td>\n",
       "      <td>2013-06-20T06:40:12Z</td>\n",
       "    </tr>\n",
       "    <tr>\n",
       "      <th>3</th>\n",
       "      <td>manjunath5496</td>\n",
       "      <td>Manjunath.R</td>\n",
       "      <td>MYW3SCHOOLS.COM</td>\n",
       "      <td>Bangalore, India</td>\n",
       "      <td>manjunath5496@gmail.com</td>\n",
       "      <td>False</td>\n",
       "      <td>\"Science is not only a disciple of reason but,...</td>\n",
       "      <td>1563</td>\n",
       "      <td>4090</td>\n",
       "      <td>9313</td>\n",
       "      <td>2016-06-16T05:02:32Z</td>\n",
       "    </tr>\n",
       "    <tr>\n",
       "      <th>4</th>\n",
       "      <td>tanaypratap</td>\n",
       "      <td>Tanay Pratap</td>\n",
       "      <td>INVACT</td>\n",
       "      <td>Bangalore, India</td>\n",
       "      <td>tanay.mit@gmail.com</td>\n",
       "      <td>False</td>\n",
       "      <td>Founder &amp; CEO @invact . Teacher @neogcamp</td>\n",
       "      <td>40</td>\n",
       "      <td>3029</td>\n",
       "      <td>1</td>\n",
       "      <td>2014-12-17T05:15:06Z</td>\n",
       "    </tr>\n",
       "  </tbody>\n",
       "</table>\n",
       "</div>"
      ]
     },
     "execution_count": 2,
     "metadata": {},
     "output_type": "execute_result"
    }
   ],
   "execution_count": 2
  },
  {
   "cell_type": "code",
   "source": [
    "users['hireable'] = users['hireable'].fillna(False).astype(bool)"
   ],
   "metadata": {
    "id": "cHiIz16PkJKF",
    "ExecuteTime": {
     "end_time": "2024-10-31T05:23:03.439845Z",
     "start_time": "2024-10-31T05:23:03.425348Z"
    }
   },
   "outputs": [],
   "execution_count": 3
  },
  {
   "cell_type": "code",
   "source": [
    "top5 = users.sort_values(by='followers', ascending=False).head()\n",
    "print(','.join(top5['login'].tolist()))"
   ],
   "metadata": {
    "colab": {
     "base_uri": "https://localhost:8080/"
    },
    "id": "fWXKgynnkJy-",
    "outputId": "22b6211d-39fb-48dc-ff55-655312751ac4",
    "ExecuteTime": {
     "end_time": "2024-10-31T05:23:03.455080Z",
     "start_time": "2024-10-31T05:23:03.441816Z"
    }
   },
   "outputs": [
    {
     "name": "stdout",
     "output_type": "stream",
     "text": [
      "krishnaik06,championswimmer,arpitbbhayani,manjunath5496,tanaypratap\n"
     ]
    }
   ],
   "execution_count": 4
  },
  {
   "cell_type": "markdown",
   "source": [
    "###Q2. Who are the 5 earliest registered GitHub users in Bangalore? List their login in ascending order of created_at, comma-separated.\n"
   ],
   "metadata": {
    "id": "rBeIiksIkN8u"
   }
  },
  {
   "cell_type": "code",
   "source": [
    "users['created_at'] = pd.to_datetime(users['created_at'])"
   ],
   "metadata": {
    "id": "AzCmkhKLkVPu",
    "ExecuteTime": {
     "end_time": "2024-10-31T05:23:04.619943Z",
     "start_time": "2024-10-31T05:23:04.604314Z"
    }
   },
   "outputs": [],
   "execution_count": 5
  },
  {
   "cell_type": "code",
   "source": [
    "top_earliest = users.sort_values(by='created_at').head()\n",
    "print(','.join(top_earliest['login'].tolist()))"
   ],
   "metadata": {
    "colab": {
     "base_uri": "https://localhost:8080/"
    },
    "id": "06jKm1j0kXm8",
    "outputId": "52aafa1f-0c49-47d7-e224-48c9e992b222",
    "ExecuteTime": {
     "end_time": "2024-10-31T05:23:34.474810Z",
     "start_time": "2024-10-31T05:23:34.459251Z"
    }
   },
   "outputs": [
    {
     "name": "stdout",
     "output_type": "stream",
     "text": [
      "anandology,irfn,jace,abhisek,abhin4v\n"
     ]
    }
   ],
   "execution_count": 7
  },
  {
   "cell_type": "markdown",
   "source": [
    "###Q3. What are the 3 most popular license among these users? Ignore missing licenses. List the license_name in order, comma-separated."
   ],
   "metadata": {
    "id": "Q1Mx5wKHkdp6"
   }
  },
  {
   "cell_type": "code",
   "source": [
    "repos = pd.read_csv('repositories.csv')\n",
    "repos.head()"
   ],
   "metadata": {
    "colab": {
     "base_uri": "https://localhost:8080/",
     "height": 206
    },
    "collapsed": true,
    "id": "VXalTYePkhj7",
    "outputId": "ea603567-4b20-4718-89b8-4cfe947111c9",
    "ExecuteTime": {
     "end_time": "2024-10-31T05:23:34.961659Z",
     "start_time": "2024-10-31T05:23:34.846610Z"
    }
   },
   "outputs": [
    {
     "data": {
      "text/plain": [
       "         login                                          full_name  \\\n",
       "0  krishnaik06      krishnaik06/3-Months-RoadMap-For-Data-Science   \n",
       "1  krishnaik06  krishnaik06/5-Days-Live-EDA-and-Feature-Engine...   \n",
       "2  krishnaik06         krishnaik06/6-Months-Data-Science-Roadmap-   \n",
       "3  krishnaik06             krishnaik06/Advanced-CNN-Architectures   \n",
       "4  krishnaik06       krishnaik06/Advanced-House-Price-Prediction-   \n",
       "\n",
       "             created_at  stargazers_count  watchers_count          language  \\\n",
       "0  2022-08-18T15:50:22Z               239             239               NaN   \n",
       "1  2022-02-17T09:03:19Z               188             188  Jupyter Notebook   \n",
       "2  2023-01-07T06:41:22Z              1743            1743               NaN   \n",
       "3  2020-09-10T16:14:51Z                46              46  Jupyter Notebook   \n",
       "4  2020-01-31T05:39:25Z               382             382  Jupyter Notebook   \n",
       "\n",
       "   has_projects  has_wiki license_name  \n",
       "0          True      True      gpl-3.0  \n",
       "1          True      True      gpl-3.0  \n",
       "2          True      True      gpl-3.0  \n",
       "3          True      True          NaN  \n",
       "4          True      True          NaN  "
      ],
      "text/html": [
       "<div>\n",
       "<style scoped>\n",
       "    .dataframe tbody tr th:only-of-type {\n",
       "        vertical-align: middle;\n",
       "    }\n",
       "\n",
       "    .dataframe tbody tr th {\n",
       "        vertical-align: top;\n",
       "    }\n",
       "\n",
       "    .dataframe thead th {\n",
       "        text-align: right;\n",
       "    }\n",
       "</style>\n",
       "<table border=\"1\" class=\"dataframe\">\n",
       "  <thead>\n",
       "    <tr style=\"text-align: right;\">\n",
       "      <th></th>\n",
       "      <th>login</th>\n",
       "      <th>full_name</th>\n",
       "      <th>created_at</th>\n",
       "      <th>stargazers_count</th>\n",
       "      <th>watchers_count</th>\n",
       "      <th>language</th>\n",
       "      <th>has_projects</th>\n",
       "      <th>has_wiki</th>\n",
       "      <th>license_name</th>\n",
       "    </tr>\n",
       "  </thead>\n",
       "  <tbody>\n",
       "    <tr>\n",
       "      <th>0</th>\n",
       "      <td>krishnaik06</td>\n",
       "      <td>krishnaik06/3-Months-RoadMap-For-Data-Science</td>\n",
       "      <td>2022-08-18T15:50:22Z</td>\n",
       "      <td>239</td>\n",
       "      <td>239</td>\n",
       "      <td>NaN</td>\n",
       "      <td>True</td>\n",
       "      <td>True</td>\n",
       "      <td>gpl-3.0</td>\n",
       "    </tr>\n",
       "    <tr>\n",
       "      <th>1</th>\n",
       "      <td>krishnaik06</td>\n",
       "      <td>krishnaik06/5-Days-Live-EDA-and-Feature-Engine...</td>\n",
       "      <td>2022-02-17T09:03:19Z</td>\n",
       "      <td>188</td>\n",
       "      <td>188</td>\n",
       "      <td>Jupyter Notebook</td>\n",
       "      <td>True</td>\n",
       "      <td>True</td>\n",
       "      <td>gpl-3.0</td>\n",
       "    </tr>\n",
       "    <tr>\n",
       "      <th>2</th>\n",
       "      <td>krishnaik06</td>\n",
       "      <td>krishnaik06/6-Months-Data-Science-Roadmap-</td>\n",
       "      <td>2023-01-07T06:41:22Z</td>\n",
       "      <td>1743</td>\n",
       "      <td>1743</td>\n",
       "      <td>NaN</td>\n",
       "      <td>True</td>\n",
       "      <td>True</td>\n",
       "      <td>gpl-3.0</td>\n",
       "    </tr>\n",
       "    <tr>\n",
       "      <th>3</th>\n",
       "      <td>krishnaik06</td>\n",
       "      <td>krishnaik06/Advanced-CNN-Architectures</td>\n",
       "      <td>2020-09-10T16:14:51Z</td>\n",
       "      <td>46</td>\n",
       "      <td>46</td>\n",
       "      <td>Jupyter Notebook</td>\n",
       "      <td>True</td>\n",
       "      <td>True</td>\n",
       "      <td>NaN</td>\n",
       "    </tr>\n",
       "    <tr>\n",
       "      <th>4</th>\n",
       "      <td>krishnaik06</td>\n",
       "      <td>krishnaik06/Advanced-House-Price-Prediction-</td>\n",
       "      <td>2020-01-31T05:39:25Z</td>\n",
       "      <td>382</td>\n",
       "      <td>382</td>\n",
       "      <td>Jupyter Notebook</td>\n",
       "      <td>True</td>\n",
       "      <td>True</td>\n",
       "      <td>NaN</td>\n",
       "    </tr>\n",
       "  </tbody>\n",
       "</table>\n",
       "</div>"
      ]
     },
     "execution_count": 8,
     "metadata": {},
     "output_type": "execute_result"
    }
   ],
   "execution_count": 8
  },
  {
   "cell_type": "code",
   "source": [
    "repos['license_name'].value_counts().head(3)"
   ],
   "metadata": {
    "colab": {
     "base_uri": "https://localhost:8080/",
     "height": 209
    },
    "id": "_aO2OWGLkj1s",
    "outputId": "8793eda9-a6a6-4cfb-8a79-baeb5cb8c544",
    "ExecuteTime": {
     "end_time": "2024-10-31T05:23:35.055801Z",
     "start_time": "2024-10-31T05:23:35.040136Z"
    }
   },
   "outputs": [
    {
     "data": {
      "text/plain": [
       "license_name\n",
       "mit           7782\n",
       "apache-2.0    2696\n",
       "other         1645\n",
       "Name: count, dtype: int64"
      ]
     },
     "execution_count": 9,
     "metadata": {},
     "output_type": "execute_result"
    }
   ],
   "execution_count": 9
  },
  {
   "cell_type": "markdown",
   "source": [
    "###Q4. Which company do the majority of these developers work at?"
   ],
   "metadata": {
    "id": "5HG07M__kt50"
   }
  },
  {
   "cell_type": "code",
   "source": [
    "users['company'].value_counts().head(1)"
   ],
   "metadata": {
    "colab": {
     "base_uri": "https://localhost:8080/",
     "height": 147
    },
    "id": "yurYBhjnk4QL",
    "outputId": "3163c25a-f1aa-41a3-a17d-0cbf81f2c90b",
    "ExecuteTime": {
     "end_time": "2024-10-31T05:23:35.494986Z",
     "start_time": "2024-10-31T05:23:35.465338Z"
    }
   },
   "outputs": [
    {
     "data": {
      "text/plain": [
       "company\n",
       "GOOGLE    15\n",
       "Name: count, dtype: int64"
      ]
     },
     "execution_count": 10,
     "metadata": {},
     "output_type": "execute_result"
    }
   ],
   "execution_count": 10
  },
  {
   "cell_type": "markdown",
   "source": [
    "###Q5. Which programming language is most popular among these users?"
   ],
   "metadata": {
    "id": "5Rrwazj5k7Xd"
   }
  },
  {
   "cell_type": "code",
   "source": [
    "repos['language'].value_counts().head(1)"
   ],
   "metadata": {
    "colab": {
     "base_uri": "https://localhost:8080/",
     "height": 147
    },
    "id": "n-9igEGPlBSz",
    "outputId": "c1796ee9-cc4d-498c-a4b1-942631599e7a",
    "ExecuteTime": {
     "end_time": "2024-10-31T05:23:35.840120Z",
     "start_time": "2024-10-31T05:23:35.824314Z"
    }
   },
   "outputs": [
    {
     "data": {
      "text/plain": [
       "language\n",
       "JavaScript    6178\n",
       "Name: count, dtype: int64"
      ]
     },
     "execution_count": 11,
     "metadata": {},
     "output_type": "execute_result"
    }
   ],
   "execution_count": 11
  },
  {
   "cell_type": "markdown",
   "source": [
    "###Q6. Which programming language is the second most popular among users who joined after 2020?"
   ],
   "metadata": {
    "id": "-pEaviamlFUJ"
   }
  },
  {
   "cell_type": "code",
   "source": [
    "users_after_2020 = users[users['created_at'] > '2020-01-01']\n",
    "users_after_2020.head()"
   ],
   "metadata": {
    "colab": {
     "base_uri": "https://localhost:8080/",
     "height": 293
    },
    "collapsed": true,
    "id": "qY16ju4LlEcQ",
    "outputId": "c1ce85e1-8e1a-4955-90fa-fa33669554fd",
    "ExecuteTime": {
     "end_time": "2024-10-31T05:23:36.279200Z",
     "start_time": "2024-10-31T05:23:36.250486Z"
    }
   },
   "outputs": [
    {
     "data": {
      "text/plain": [
       "           login            name                    company          location  \\\n",
       "25        bigint          Bigint                     HEYXYZ  Bangalore, India   \n",
       "28   techiescamp     TechiesCamp  TECHIESCAMP BY DEVOPSCUBE         Bangalore   \n",
       "30     saadozone  Saad Bin Noman         VANANAM ENTERPRISE         Bangalore   \n",
       "43         yua-9   Yusra Pikhwal                  PATAACOPY   Bangalore,india   \n",
       "63  keralahacker  Hackwithvyshu             HACK WITH VYSHU        Bangalore    \n",
       "\n",
       "   email  hireable                                                bio  \\\n",
       "25   NaN      True                               Creator of @heyxyz 🌸   \n",
       "28   NaN     False  Practical DevOps Learning Platform - Follow @t...   \n",
       "30   NaN     False  I'm a passionate Full Stack Developer with exp...   \n",
       "43   NaN      True  Python Lover || \\r\\nDjango is my crush  ||  \\r...   \n",
       "63   NaN     False                    X-BlackHat 🎩 Hacker | Engineer    \n",
       "\n",
       "    public_repos  followers  following                created_at  \n",
       "25            20       1118        198 2020-08-09 17:17:58+00:00  \n",
       "28            54       1113          1 2022-06-06 15:09:55+00:00  \n",
       "30            10       1086       2171 2023-02-20 09:51:28+00:00  \n",
       "43             3        767       1298 2020-12-03 20:03:45+00:00  \n",
       "63           204        599          1 2020-05-03 19:45:11+00:00  "
      ],
      "text/html": [
       "<div>\n",
       "<style scoped>\n",
       "    .dataframe tbody tr th:only-of-type {\n",
       "        vertical-align: middle;\n",
       "    }\n",
       "\n",
       "    .dataframe tbody tr th {\n",
       "        vertical-align: top;\n",
       "    }\n",
       "\n",
       "    .dataframe thead th {\n",
       "        text-align: right;\n",
       "    }\n",
       "</style>\n",
       "<table border=\"1\" class=\"dataframe\">\n",
       "  <thead>\n",
       "    <tr style=\"text-align: right;\">\n",
       "      <th></th>\n",
       "      <th>login</th>\n",
       "      <th>name</th>\n",
       "      <th>company</th>\n",
       "      <th>location</th>\n",
       "      <th>email</th>\n",
       "      <th>hireable</th>\n",
       "      <th>bio</th>\n",
       "      <th>public_repos</th>\n",
       "      <th>followers</th>\n",
       "      <th>following</th>\n",
       "      <th>created_at</th>\n",
       "    </tr>\n",
       "  </thead>\n",
       "  <tbody>\n",
       "    <tr>\n",
       "      <th>25</th>\n",
       "      <td>bigint</td>\n",
       "      <td>Bigint</td>\n",
       "      <td>HEYXYZ</td>\n",
       "      <td>Bangalore, India</td>\n",
       "      <td>NaN</td>\n",
       "      <td>True</td>\n",
       "      <td>Creator of @heyxyz 🌸</td>\n",
       "      <td>20</td>\n",
       "      <td>1118</td>\n",
       "      <td>198</td>\n",
       "      <td>2020-08-09 17:17:58+00:00</td>\n",
       "    </tr>\n",
       "    <tr>\n",
       "      <th>28</th>\n",
       "      <td>techiescamp</td>\n",
       "      <td>TechiesCamp</td>\n",
       "      <td>TECHIESCAMP BY DEVOPSCUBE</td>\n",
       "      <td>Bangalore</td>\n",
       "      <td>NaN</td>\n",
       "      <td>False</td>\n",
       "      <td>Practical DevOps Learning Platform - Follow @t...</td>\n",
       "      <td>54</td>\n",
       "      <td>1113</td>\n",
       "      <td>1</td>\n",
       "      <td>2022-06-06 15:09:55+00:00</td>\n",
       "    </tr>\n",
       "    <tr>\n",
       "      <th>30</th>\n",
       "      <td>saadozone</td>\n",
       "      <td>Saad Bin Noman</td>\n",
       "      <td>VANANAM ENTERPRISE</td>\n",
       "      <td>Bangalore</td>\n",
       "      <td>NaN</td>\n",
       "      <td>False</td>\n",
       "      <td>I'm a passionate Full Stack Developer with exp...</td>\n",
       "      <td>10</td>\n",
       "      <td>1086</td>\n",
       "      <td>2171</td>\n",
       "      <td>2023-02-20 09:51:28+00:00</td>\n",
       "    </tr>\n",
       "    <tr>\n",
       "      <th>43</th>\n",
       "      <td>yua-9</td>\n",
       "      <td>Yusra Pikhwal</td>\n",
       "      <td>PATAACOPY</td>\n",
       "      <td>Bangalore,india</td>\n",
       "      <td>NaN</td>\n",
       "      <td>True</td>\n",
       "      <td>Python Lover || \\r\\nDjango is my crush  ||  \\r...</td>\n",
       "      <td>3</td>\n",
       "      <td>767</td>\n",
       "      <td>1298</td>\n",
       "      <td>2020-12-03 20:03:45+00:00</td>\n",
       "    </tr>\n",
       "    <tr>\n",
       "      <th>63</th>\n",
       "      <td>keralahacker</td>\n",
       "      <td>Hackwithvyshu</td>\n",
       "      <td>HACK WITH VYSHU</td>\n",
       "      <td>Bangalore</td>\n",
       "      <td>NaN</td>\n",
       "      <td>False</td>\n",
       "      <td>X-BlackHat 🎩 Hacker | Engineer</td>\n",
       "      <td>204</td>\n",
       "      <td>599</td>\n",
       "      <td>1</td>\n",
       "      <td>2020-05-03 19:45:11+00:00</td>\n",
       "    </tr>\n",
       "  </tbody>\n",
       "</table>\n",
       "</div>"
      ]
     },
     "execution_count": 12,
     "metadata": {},
     "output_type": "execute_result"
    }
   ],
   "execution_count": 12
  },
  {
   "cell_type": "code",
   "source": [
    "repos_2020 = repos[repos['login'].isin(users_after_2020['login'].tolist())]\n",
    "repos_2020['language'].value_counts().head()"
   ],
   "metadata": {
    "colab": {
     "base_uri": "https://localhost:8080/",
     "height": 272
    },
    "id": "smmxzlyRlNvJ",
    "outputId": "4acbd068-80d0-4bee-a908-879e16da3f54",
    "ExecuteTime": {
     "end_time": "2024-10-31T05:23:36.749385Z",
     "start_time": "2024-10-31T05:23:36.717779Z"
    }
   },
   "outputs": [
    {
     "data": {
      "text/plain": [
       "language\n",
       "JavaScript    1264\n",
       "HTML           525\n",
       "Python         253\n",
       "CSS            241\n",
       "TypeScript     168\n",
       "Name: count, dtype: int64"
      ]
     },
     "execution_count": 13,
     "metadata": {},
     "output_type": "execute_result"
    }
   ],
   "execution_count": 13
  },
  {
   "cell_type": "markdown",
   "source": [
    "###Q7. Which language has the highest average number of stars per repository?"
   ],
   "metadata": {
    "id": "NXXXnIInlX5f"
   }
  },
  {
   "cell_type": "code",
   "source": [
    "avg_stars = repos.groupby('language')['stargazers_count'].mean()\n",
    "top_lang = avg_stars.idxmax()\n",
    "top_stars = avg_stars.max()\n",
    "print(top_lang, top_stars)"
   ],
   "metadata": {
    "colab": {
     "base_uri": "https://localhost:8080/"
    },
    "id": "iJ-QmwLPlbMO",
    "outputId": "c4eb9585-2ec9-4529-891d-0357c85c6d0a",
    "ExecuteTime": {
     "end_time": "2024-10-31T05:23:37.203339Z",
     "start_time": "2024-10-31T05:23:37.187720Z"
    }
   },
   "outputs": [
    {
     "name": "stdout",
     "output_type": "stream",
     "text": [
      "Pascal 92.0\n"
     ]
    }
   ],
   "execution_count": 14
  },
  {
   "cell_type": "markdown",
   "source": [
    "###Q8. Let's define leader_strength as followers / (1 + following). Who are the top 5 in terms of leader_strength? List their login in order, comma-separated."
   ],
   "metadata": {
    "id": "1tQxql0Ildq2"
   }
  },
  {
   "cell_type": "code",
   "source": [
    "users['leader_strength'] = users['followers'] / (1 + users['following'])\n",
    "top5_lead = users.sort_values(by='leader_strength', ascending=False).head()\n",
    "print(','.join(top5_lead['login'].tolist()))"
   ],
   "metadata": {
    "colab": {
     "base_uri": "https://localhost:8080/"
    },
    "id": "ANJOKp1BliPV",
    "outputId": "e3a4d919-d745-4a76-e31e-d2b40ba125ac",
    "ExecuteTime": {
     "end_time": "2024-10-31T05:23:37.828746Z",
     "start_time": "2024-10-31T05:23:37.797484Z"
    }
   },
   "outputs": [
    {
     "name": "stdout",
     "output_type": "stream",
     "text": [
      "krishnaik06,Hack-with-Github,laxmimerit,tanaypratap,abhishh1\n"
     ]
    }
   ],
   "execution_count": 15
  },
  {
   "cell_type": "markdown",
   "source": [
    "###Q9. What is the correlation between the number of followers and the number of public repositories among users in Bangalore?\n",
    "\n"
   ],
   "metadata": {
    "id": "yfoAnSzKlhU9"
   }
  },
  {
   "cell_type": "code",
   "source": [
    "correlation = users['followers'].corr(users['public_repos'])\n",
    "correlation"
   ],
   "metadata": {
    "colab": {
     "base_uri": "https://localhost:8080/"
    },
    "id": "HmrGv3l8ltsJ",
    "outputId": "e1549330-b10f-468d-9f80-da86b1eebf15",
    "ExecuteTime": {
     "end_time": "2024-10-31T05:23:38.219847Z",
     "start_time": "2024-10-31T05:23:38.188601Z"
    }
   },
   "outputs": [
    {
     "data": {
      "text/plain": [
       "0.19146960088213336"
      ]
     },
     "execution_count": 16,
     "metadata": {},
     "output_type": "execute_result"
    }
   ],
   "execution_count": 16
  },
  {
   "cell_type": "markdown",
   "source": [
    "###Q10. Does creating more repos help users get more followers? Using regression, estimate how many additional followers a user gets per additional public repository."
   ],
   "metadata": {
    "id": "jgjJU85SlwXb"
   }
  },
  {
   "cell_type": "code",
   "source": [
    "import csv\n",
    "followers = []\n",
    "public_repos = []\n",
    "with open('users.csv', 'r', encoding='utf-8') as file:\n",
    "    reader = csv.DictReader(file)\n",
    "    for row in reader:\n",
    "        followers_count = int(row['followers'])\n",
    "        public_repos_count = int(row['public_repos'])\n",
    "        followers.append(followers_count)\n",
    "        public_repos.append(public_repos_count)\n",
    "if len(followers) > 1 and len(public_repos) > 1:\n",
    "    slope, intercept = np.polyfit(public_repos, followers, 1)\n",
    "\n",
    "    print(f\"{slope:.3f}\")\n",
    "else:\n",
    "    print(\"Error\")"
   ],
   "metadata": {
    "colab": {
     "base_uri": "https://localhost:8080/"
    },
    "id": "c9zt2l-El1ZF",
    "outputId": "20eae106-e98a-400c-8612-10b4a8fa1801",
    "ExecuteTime": {
     "end_time": "2024-10-31T05:23:39.396973Z",
     "start_time": "2024-10-31T05:23:39.365757Z"
    }
   },
   "outputs": [
    {
     "name": "stdout",
     "output_type": "stream",
     "text": [
      "2.347\n"
     ]
    }
   ],
   "execution_count": 17
  },
  {
   "cell_type": "markdown",
   "source": [
    "###Q11. Do people typically enable projects and wikis together? What is the correlation between a repo having projects enabled and having wiki enabled?"
   ],
   "metadata": {
    "id": "siwhqz4dl8Hw"
   }
  },
  {
   "cell_type": "code",
   "source": [
    "if repos['has_projects'].dtype == 'object':\n",
    "    repos['has_projects'] = repos['has_projects'].map({'true': True, 'false': False})\n",
    "if repos['has_wiki'].dtype == 'object':\n",
    "    repos['has_wiki'] = repos['has_wiki'].map({'true': True, 'false': False})\n",
    "\n",
    "correlation = repos['has_projects'].corr(repos['has_wiki'])\n",
    "\n",
    "print(round(correlation, 3))"
   ],
   "metadata": {
    "colab": {
     "base_uri": "https://localhost:8080/"
    },
    "id": "Y94OFVFjmAdI",
    "outputId": "b32f2a19-a703-4033-b990-b196cbc0b5c1",
    "ExecuteTime": {
     "end_time": "2024-10-31T05:23:39.779155Z",
     "start_time": "2024-10-31T05:23:39.747843Z"
    }
   },
   "outputs": [
    {
     "name": "stdout",
     "output_type": "stream",
     "text": [
      "0.189\n"
     ]
    }
   ],
   "execution_count": 18
  },
  {
   "cell_type": "markdown",
   "source": [
    "###Q12. Do hireable users follow more people than those who are not hireable?"
   ],
   "metadata": {
    "id": "2s3FBhdqmEMJ"
   }
  },
  {
   "cell_type": "code",
   "source": [
    "hireable_avg_following = users[users['hireable'] == True]['following'].mean()\n",
    "non_hireable_avg_following = users[users['hireable'] == False]['following'].mean()\n",
    "difference = hireable_avg_following - non_hireable_avg_following\n",
    "difference"
   ],
   "metadata": {
    "colab": {
     "base_uri": "https://localhost:8080/"
    },
    "id": "qcADRfK7mHny",
    "outputId": "7069a3df-1455-4453-9c8e-a67bb7440a20",
    "ExecuteTime": {
     "end_time": "2024-10-31T05:23:40.812076Z",
     "start_time": "2024-10-31T05:23:40.780495Z"
    }
   },
   "outputs": [
    {
     "data": {
      "text/plain": [
       "63.69848694848693"
      ]
     },
     "execution_count": 19,
     "metadata": {},
     "output_type": "execute_result"
    }
   ],
   "execution_count": 19
  },
  {
   "cell_type": "markdown",
   "source": [
    "###Q13. Some developers write long bios. Does that help them get more followers? What's the correlation of the length of their bio (in Unicode characters) with followers? (Ignore people without bios)"
   ],
   "metadata": {
    "id": "7wCOhokymSDC"
   }
  },
  {
   "cell_type": "code",
   "source": [
    "import pandas as pd\n",
    "import statsmodels.api as sm\n",
    "\n",
    "csv_file = 'users.csv'  \n",
    "\n",
    "df = pd.read_csv(csv_file)\n",
    "\n",
    "print(\"DataFrame Overview:\")\n",
    "print(df.head())\n",
    "print(\"\\nDataFrame Info:\")\n",
    "print(df.info())\n",
    "\n",
    "df = df[df['bio'].notnull()]\n",
    "\n",
    "df['bio_word_count'] = df['bio'].str.split().str.len()\n",
    "\n",
    "X = df['bio_word_count']\n",
    "y = df['followers']  \n",
    "\n",
    "X = sm.add_constant(X)\n",
    "\n",
    "model = sm.OLS(y, X).fit()\n",
    "\n",
    "slope = model.params['bio_word_count']\n",
    "\n",
    "print(f\"\\nRegression slope of followers on bio word count: {slope:.3f}\")"
   ],
   "metadata": {
    "colab": {
     "base_uri": "https://localhost:8080/"
    },
    "id": "wMQVBGUCmXLD",
    "outputId": "390acc8f-ad43-4d10-eef5-01858d832fd1",
    "ExecuteTime": {
     "end_time": "2024-10-31T05:23:45.209591Z",
     "start_time": "2024-10-31T05:23:41.743274Z"
    }
   },
   "outputs": [
    {
     "name": "stdout",
     "output_type": "stream",
     "text": [
      "DataFrame Overview:\n",
      "             login           name          company          location  \\\n",
      "0      krishnaik06   Krish C Naik    PANASONIC IIC         Bangalore   \n",
      "1  championswimmer    Arnav Gupta        JIOCINEMA  Bangalore, India   \n",
      "2    arpitbbhayani  Arpit Bhayani           DICEDB         Bangalore   \n",
      "3    manjunath5496    Manjunath.R  MYW3SCHOOLS.COM  Bangalore, India   \n",
      "4      tanaypratap   Tanay Pratap           INVACT  Bangalore, India   \n",
      "\n",
      "                     email  hireable  \\\n",
      "0    krishnaik06@gmail.com     False   \n",
      "1   dev@championswimmer.in      True   \n",
      "2                      NaN      True   \n",
      "3  manjunath5496@gmail.com     False   \n",
      "4      tanay.mit@gmail.com     False   \n",
      "\n",
      "                                                 bio  public_repos  followers  \\\n",
      "0  Data Scientist with ML and Deep  Learning expe...           330      30922   \n",
      "1  Director of Engineering - @JioCinema ┃\\r\\nPast...           351       4664   \n",
      "2  Creator of @DiceDB • ex-Google Dataproc, ex-Am...           188       4561   \n",
      "3  \"Science is not only a disciple of reason but,...          1563       4090   \n",
      "4         Founder & CEO @invact . Teacher @neogcamp             40       3029   \n",
      "\n",
      "   following            created_at  \n",
      "0          0  2016-06-20T09:25:45Z  \n",
      "1         29  2012-01-13T07:41:40Z  \n",
      "2          3  2013-06-20T06:40:12Z  \n",
      "3       9313  2016-06-16T05:02:32Z  \n",
      "4          1  2014-12-17T05:15:06Z  \n",
      "\n",
      "DataFrame Info:\n",
      "<class 'pandas.core.frame.DataFrame'>\n",
      "RangeIndex: 593 entries, 0 to 592\n",
      "Data columns (total 11 columns):\n",
      " #   Column        Non-Null Count  Dtype \n",
      "---  ------        --------------  ----- \n",
      " 0   login         593 non-null    object\n",
      " 1   name          587 non-null    object\n",
      " 2   company       421 non-null    object\n",
      " 3   location      593 non-null    object\n",
      " 4   email         340 non-null    object\n",
      " 5   hireable      593 non-null    bool  \n",
      " 6   bio           500 non-null    object\n",
      " 7   public_repos  593 non-null    int64 \n",
      " 8   followers     593 non-null    int64 \n",
      " 9   following     593 non-null    int64 \n",
      " 10  created_at    593 non-null    object\n",
      "dtypes: bool(1), int64(3), object(7)\n",
      "memory usage: 47.0+ KB\n",
      "None\n",
      "\n",
      "Regression slope of followers on bio word count: 0.210\n"
     ]
    }
   ],
   "execution_count": 20
  },
  {
   "cell_type": "markdown",
   "source": [
    "###Q14. Who created the most repositories on weekends (UTC)? List the top 5 users' login in order, comma-separated"
   ],
   "metadata": {
    "id": "GRQbDXa9maDv"
   }
  },
  {
   "cell_type": "code",
   "source": [
    "import csv\n",
    "from collections import Counter\n",
    "from datetime import datetime\n",
    "\n",
    "weekend_repo_counts = Counter()\n",
    "\n",
    "with open('repositories.csv', 'r', encoding='utf-8') as file:\n",
    "    reader = csv.DictReader(file)\n",
    "\n",
    "    for row in reader:\n",
    "        created_at = row.get('created_at', '')\n",
    "        if created_at:\n",
    "            created_date = datetime.fromisoformat(created_at[:-1])\n",
    "\n",
    "            if created_date.weekday() in [5, 6]:\n",
    "                user_login = row['login']\n",
    "                weekend_repo_counts[user_login] += 1\n",
    "\n",
    "top_users = weekend_repo_counts.most_common(5)\n",
    "\n",
    "top_logins = [user[0] for user in top_users]\n",
    "\n",
    "print(','.join(top_logins))"
   ],
   "metadata": {
    "colab": {
     "base_uri": "https://localhost:8080/"
    },
    "id": "c3JjXp94mdiJ",
    "outputId": "1a51ab6a-23ce-4ea2-86d0-d9f364a8f3d3",
    "ExecuteTime": {
     "end_time": "2024-10-31T05:23:45.382249Z",
     "start_time": "2024-10-31T05:23:45.210705Z"
    }
   },
   "outputs": [
    {
     "name": "stdout",
     "output_type": "stream",
     "text": [
      "FarhaKousar1601,avinassh,Nasruddin,sunilkumarc,sunnysavita10\n"
     ]
    }
   ],
   "execution_count": 21
  },
  {
   "cell_type": "markdown",
   "source": [
    "###Q15. Do people who are hireable share their email addresses more often?"
   ],
   "metadata": {
    "id": "z3jUESSpmg2i"
   }
  },
  {
   "cell_type": "code",
   "source": [
    "fraction_hierable = users[users['hireable'] == True]['email'].notna().mean()\n",
    "fraction_non_hierable = users[users['hireable'] == False]['email'].notna().mean()\n",
    "diff = fraction_hierable - fraction_non_hierable\n",
    "diff"
   ],
   "metadata": {
    "colab": {
     "base_uri": "https://localhost:8080/"
    },
    "id": "Q6qQOOHnmlFk",
    "outputId": "b52a7c31-d865-4e6e-dba9-cd495efa7ccc"
   },
   "execution_count": 21,
   "outputs": [
    {
     "output_type": "execute_result",
     "data": {
      "text/plain": [
       "0.1981288981288981"
      ]
     },
     "metadata": {},
     "execution_count": 21
    }
   ]
  },
  {
   "cell_type": "markdown",
   "source": [
    "###Q16. Let's assume that the last word in a user's name is their surname (ignore missing names, trim and split by whitespace.) What's the most common surname? (If there's a tie, list them all, comma-separated, alphabetically)"
   ],
   "metadata": {
    "id": "TW2B0SiZmubj"
   }
  },
  {
   "cell_type": "code",
   "source": [
    "new_users = users[users['name'].notna()].copy()\n",
    "new_users['surname'] = new_users['name'].str.split().str[-1].str.strip()\n",
    "surname_counts = new_users['surname'].value_counts()\n",
    "max_count = surname_counts.max()\n",
    "common_surnames = surname_counts[surname_counts == max_count].index.tolist()\n",
    "common_surnames.sort()\n",
    "print(','.join(common_surnames))"
   ],
   "metadata": {
    "colab": {
     "base_uri": "https://localhost:8080/"
    },
    "id": "y6AkbtMPmy4v",
    "outputId": "a66d2636-a8e6-4233-eac1-b392612b95a0"
   },
   "execution_count": 22,
   "outputs": [
    {
     "output_type": "stream",
     "name": "stdout",
     "text": [
      "Kumar,Singh\n"
     ]
    }
   ]
  },
  {
   "metadata": {},
   "cell_type": "markdown",
   "source": "# Analysis"
  },
  {
   "metadata": {
    "ExecuteTime": {
     "end_time": "2024-11-04T13:22:33.939397Z",
     "start_time": "2024-11-04T13:22:32.367276Z"
    }
   },
   "cell_type": "code",
   "source": [
    "import pandas as pd\n",
    "import matplotlib.pyplot as plt\n",
    "import matplotlib.dates as mdates\n",
    "\n",
    "# Load the repositories.csv file\n",
    "repositories = pd.read_csv(\"repositories.csv\")\n",
    "\n",
    "# Convert 'created_at' to datetime format\n",
    "repositories['created_at'] = pd.to_datetime(repositories['created_at'])\n",
    "\n",
    "# Set the 'created_at' column as the index\n",
    "repositories.set_index('created_at', inplace=True)\n",
    "\n",
    "# Group by month and sum the watchers_count for each month\n",
    "monthly_watchers = repositories.resample('MS')['watchers_count'].sum()\n",
    "\n",
    "# Identify the top months with the highest watchers_count\n",
    "top_months = monthly_watchers.nlargest(10)\n",
    "\n",
    "# Print the top months and their watchers count\n",
    "print(\"Top months with the highest watchers count:\")\n",
    "print(top_months)\n",
    "\n",
    "# Plot the aggregated data\n",
    "plt.figure(figsize=(12, 6))\n",
    "monthly_watchers.plot(kind='line', color='skyblue')\n",
    "\n",
    "# Formatting the x-axis to show month and year\n",
    "plt.title('Total Watchers Count by Month')\n",
    "plt.xlabel('Month')\n",
    "plt.ylabel('Total Watchers Count')\n",
    "plt.axhline(y=top_months.min(), color='r', linestyle='--', label='Top Months Threshold')\n",
    "\n",
    "# Set the locator for the x-axis to show monthly ticks\n",
    "plt.gca().xaxis.set_major_locator(mdates.MonthLocator())\n",
    "plt.gca().xaxis.set_major_formatter(mdates.DateFormatter('%Y-%m'))\n",
    "\n",
    "plt.xticks(rotation=45)\n",
    "plt.legend()\n",
    "plt.tight_layout()\n",
    "plt.show()\n"
   ],
   "outputs": [
    {
     "name": "stdout",
     "output_type": "stream",
     "text": [
      "Top months with the highest watchers count:\n",
      "created_at\n",
      "2016-03-01 00:00:00+00:00    84696\n",
      "2020-07-01 00:00:00+00:00    24264\n",
      "2018-09-01 00:00:00+00:00    22111\n",
      "2018-03-01 00:00:00+00:00    19901\n",
      "2017-05-01 00:00:00+00:00    17371\n",
      "2022-10-01 00:00:00+00:00    12820\n",
      "2017-07-01 00:00:00+00:00    12790\n",
      "2016-04-01 00:00:00+00:00    11215\n",
      "2017-03-01 00:00:00+00:00    10132\n",
      "2018-02-01 00:00:00+00:00     9850\n",
      "Name: watchers_count, dtype: int64\n"
     ]
    },
    {
     "data": {
      "text/plain": [
       "<Figure size 1200x600 with 1 Axes>"
      ],
      "image/png": "[encoded data removed]"
     },
     "metadata": {},
     "output_type": "display_data"
    }
   ],
   "execution_count": 1
  },
  {
   "metadata": {},
   "cell_type": "code",
   "outputs": [],
   "execution_count": null,
   "source": ""
  }
 ]
}
